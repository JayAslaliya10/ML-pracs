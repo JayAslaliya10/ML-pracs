{
 "cells": [
  {
   "cell_type": "code",
   "execution_count": 15,
   "id": "5a4ea4ad-43b9-4ee8-8546-486550a240aa",
   "metadata": {},
   "outputs": [],
   "source": [
    "import pandas as pd\n",
    "import matplotlib.pyplot as plt\n",
    "import numpy as np"
   ]
  },
  {
   "cell_type": "code",
   "execution_count": 16,
   "id": "21641b2f-380a-4671-bf5a-516c60829d9e",
   "metadata": {},
   "outputs": [],
   "source": [
    "def sigmoid(x):\n",
    "    return 1/(1 + np.exp(-x)) "
   ]
  },
  {
   "cell_type": "code",
   "execution_count": 17,
   "id": "706ecbe4-fc2e-4c2b-b6c2-c1ac839fa2b1",
   "metadata": {},
   "outputs": [],
   "source": [
    "class LogisticRegression(): \n",
    "\n",
    "    def __init__(self, learning_rate = 0.0001, iterations = 1000): \n",
    "        self.learning_rate = learning_rate\n",
    "        self.iterations = iterations \n",
    "        self.weights = None\n",
    "        self.bias = None\n",
    "\n",
    "    \n",
    "    def fit(self, X, Y):\n",
    "        samples , features = X.shape\n",
    "        # initialize weights \n",
    "        self.weights = np.zeros(features)\n",
    "        self.bias = 0 \n",
    "\n",
    "        for _ in range(self.iterations):\n",
    "            # calculate a1 * x1 + a2 * x2 + .... an * xn + b \n",
    "            linear_predictions = np.dot(X, self.weights) + self.bias \n",
    "            predictions = sigmoid(linear_predictions)\n",
    "\n",
    "            # Calculate gradiance \n",
    "            dw = (1 / samples) * np.dot(X.T, (predictions - Y)) \n",
    "            db = (1 / samples) * np.sum(predictions - Y)\n",
    "\n",
    "            # Updates  \n",
    "            self.weights = self.weights - self.learning_rate * dw\n",
    "            self.bias = self.bias - self.learning_rate * db\n",
    "\n",
    "    \n",
    "    def predict(self, X):\n",
    "        linear_predictions = np.dot(X, self.weights) + self.bias\n",
    "        y_pred = sigmoid(linear_predictions)\n",
    "        class_pred = [0 if y <= 0.5 else 1 for y in y_pred]\n",
    "        return class_pred\n",
    "        "
   ]
  },
  {
   "cell_type": "code",
   "execution_count": 18,
   "id": "c18a0ebc",
   "metadata": {},
   "outputs": [
    {
     "name": "stdout",
     "output_type": "stream",
     "text": [
      "[1, 1, 1, 0, 0]\n"
     ]
    }
   ],
   "source": [
    "X = np.array([[2.5,1.5],[3.0,1.0],[4.0,3.0],[1.0,4.0],[2.0,2.0]])\n",
    "y = np.array([1,1,0,0,1])\n",
    "\n",
    "model = LogisticRegression(learning_rate=0.01,iterations=1000)\n",
    "model.fit(X,y)\n",
    "\n",
    "y_pred = model.predict(X)\n",
    "print(y_pred)"
   ]
  },
  {
   "cell_type": "code",
   "execution_count": null,
   "id": "538a4cc3",
   "metadata": {},
   "outputs": [],
   "source": []
  },
  {
   "cell_type": "code",
   "execution_count": null,
   "id": "4b56cd17",
   "metadata": {},
   "outputs": [],
   "source": []
  },
  {
   "cell_type": "code",
   "execution_count": null,
   "id": "19a04450",
   "metadata": {},
   "outputs": [],
   "source": []
  },
  {
   "cell_type": "code",
   "execution_count": null,
   "id": "6c7cb319-ed6e-4cf6-b8c3-abc2f75fe1e2",
   "metadata": {},
   "outputs": [],
   "source": [
    "# Example usage\n",
    "X_train = np.array([[1, 2], [2, 3], [3, 4], [4, 5]])\n",
    "y_train = np.array([0, 0, 1, 1])\n",
    "\n",
    "model = LogisticRegression(learning_rate=0.001, iterations=1000)\n",
    "model.fit(X_train, y_train)\n",
    "\n",
    "X_test = np.array([[1, 1], [2, 2]])\n",
    "predictions = model.predict(X_test)\n",
    "print(predictions)"
   ]
  },
  {
   "cell_type": "code",
   "execution_count": null,
   "id": "2ff7d8f1-0f7d-4ba5-92dc-1aaa6085cb75",
   "metadata": {},
   "outputs": [],
   "source": [
    "data = pd.read_csv('./breast_cancer.data', header=None)\n",
    "y = (data.iloc[:, 1] == 'M').astype(int).values  # Convert 'M' (malignant) to 1 and 'B' (benign) to 0\n",
    "data.drop(data.iloc[:, 1:2 ], inplace=True, axis=1)  # Remove 2nd column \n",
    "X = data\n"
   ]
  },
  {
   "cell_type": "code",
   "execution_count": null,
   "id": "b7343a87-8e85-4f04-a2ee-afa7ba1e48e8",
   "metadata": {},
   "outputs": [],
   "source": [
    "# Split data \n",
    "def split_data(X, y, test_size=0.2):\n",
    "    num_samples = len(X)\n",
    "    num_test = int(test_size * num_samples)\n",
    "    X_train, X_test = X[:-num_test], X[-num_test:]\n",
    "    y_train, y_test = y[:-num_test], y[-num_test:]\n",
    "    return X_train, X_test, y_train, y_test\n",
    "\n",
    "X_train, X_test, y_train, y_test = split_data(X, y)\n",
    "\n",
    "print('X-train - ')\n",
    "print(X_train)\n",
    "\n",
    "print('Y-train - ')\n",
    "print(y_train)\n",
    "\n",
    "print('X-test - ')\n",
    "print(X_test)\n",
    "\n",
    "print('Y-test - ')\n",
    "print(y_test)\n"
   ]
  },
  {
   "cell_type": "code",
   "execution_count": null,
   "id": "6377a4ce-f20a-4e91-9fbb-f6dce448f0ff",
   "metadata": {},
   "outputs": [],
   "source": [
    "# Train the logistic regression model\n",
    "model = LogisticRegression(learning_rate=0.00001, iterations=1000)\n",
    "model.fit(X_train, y_train)\n",
    "\n",
    "# Predict on the test set\n",
    "predictions = model.predict(X_test)\n",
    "\n",
    "# Calculate accuracy\n",
    "accuracy = np.sum(predictions == y_test) / len(y_test) * 100\n",
    "print(\"Accuracy:\", accuracy, \"%\")\n",
    "\n"
   ]
  },
  {
   "cell_type": "code",
   "execution_count": null,
   "id": "cbcc31ce",
   "metadata": {},
   "outputs": [],
   "source": []
  }
 ],
 "metadata": {
  "kernelspec": {
   "display_name": "Python 3 (ipykernel)",
   "language": "python",
   "name": "python3"
  },
  "language_info": {
   "codemirror_mode": {
    "name": "ipython",
    "version": 3
   },
   "file_extension": ".py",
   "mimetype": "text/x-python",
   "name": "python",
   "nbconvert_exporter": "python",
   "pygments_lexer": "ipython3",
   "version": "3.10.4"
  }
 },
 "nbformat": 4,
 "nbformat_minor": 5
}
