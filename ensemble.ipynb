{
 "cells": [
  {
   "cell_type": "code",
   "execution_count": null,
   "metadata": {},
   "outputs": [],
   "source": [
    "import pandas as pd\n",
    "\n",
    "df = pd.read_csv('boston.csv')\n",
    "df\n",
    "\n",
    "print(\"shape of the dataset: \", df.shape)\n",
    "\n",
    "print(\"Column names: \" ,df.columns)\n",
    "\n",
    "print(\"Summary of the dataset\")\n",
    "print(df.info())\n",
    "print()\n",
    "print(df.describe())\n",
    "\n",
    "df.fillna(df.mean(), inplace=True)"
   ]
  },
  {
   "cell_type": "code",
   "execution_count": null,
   "metadata": {},
   "outputs": [],
   "source": [
    "from sklearn.model_selection import train_test_split\n",
    "X = df.drop(columns=['medv'])\n",
    "y = df['medv']\n",
    "\n",
    "X_train,X_test,y_train,y_test = train_test_split(X,y,test_size=0.2,random_state=42)"
   ]
  },
  {
   "cell_type": "code",
   "execution_count": null,
   "metadata": {},
   "outputs": [],
   "source": [
    "from sklearn.ensemble import StackingRegressor\n",
    "from sklearn.linear_model import Lasso,Ridge\n",
    "from sklearn.neighbors import KNeighborsRegressor\n",
    "from sklearn.svm import SVR\n",
    "from sklearn.tree import DecisionTreeRegressor\n",
    "\n",
    "#Stacking\n",
    "\n",
    "base_models = [('lasso', Lasso()),('ridge',Ridge()),('knn',KNeighborsRegressor()),('svr',SVR()),\n",
    "               ('dt',DecisionTreeRegressor())]\n",
    "meta_model = Ridge()\n",
    "stacking_regressor = StackingRegressor(estimators=base_models,final_estimator=meta_model)\n",
    "stacking_regressor.fit(X_train,y_train)\n",
    "\n",
    "y_train_pred = stacking_regressor.predict(X_train)\n",
    "y_test_pred = stacking_regressor.predict(X_test)"
   ]
  },
  {
   "cell_type": "code",
   "execution_count": null,
   "metadata": {},
   "outputs": [],
   "source": [
    "from sklearn.ensemble import RandomForestRegressor\n",
    "\n",
    "#bagging\n",
    "\n",
    "random_forest_regressor = RandomForestRegressor(n_estimators=10,random_state=42)\n",
    "random_forest_regressor.fit(X_train,y_train)\n",
    "\n",
    "y_train_pred_rf = random_forest_regressor.predict(X_train)\n",
    "y_test_pred_rf = random_forest_regressor.predict(X_test)"
   ]
  },
  {
   "cell_type": "code",
   "execution_count": null,
   "metadata": {},
   "outputs": [],
   "source": [
    "import xgboost as xgb\n",
    "\n",
    "#boosting\n",
    "xgb_regressor = xgb.XGBRegressor(n_estimators=10,random_state=42)\n",
    "xgb_regressor.fit(X_train,y_train)\n",
    "\n",
    "y_train_pred_xgb = xgb_regressor.predict(X_train)\n",
    "y_test_pred_xgb= xgb_regressor.predict(X_test)"
   ]
  },
  {
   "cell_type": "code",
   "execution_count": null,
   "metadata": {},
   "outputs": [],
   "source": [
    "from sklearn.metrics import mean_squared_error, mean_absolute_error\n",
    "import numpy as np\n",
    "\n",
    "def mape(y_true,y_pred):\n",
    "    return np.mean(np.abs((y_true-y_pred)/y_true)) * 100\n",
    "\n",
    "rmse_stacking_train = np.sqrt(mean_squared_error(y_train,y_train_pred))\n",
    "mape_stacking_train = mape(y_train,y_train_pred)\n",
    "rmse_stacking_test = np.sqrt(mean_squared_error(y_test,y_test_pred))\n",
    "mape_stacking_test = mape(y_test,y_test_pred)\n",
    "\n",
    "rmse_rf_train = np.sqrt(mean_squared_error(y_train,y_train_pred_rf))\n",
    "mape_rf_train = mape(y_train,y_train_pred_rf)\n",
    "rmse_rf_test = np.sqrt(mean_squared_error(y_test,y_test_pred_rf))\n",
    "mape_rf_test = mape(y_test,y_test_pred_rf)\n",
    "\n",
    "rmse_boosting_train = np.sqrt(mean_squared_error(y_train,y_train_pred_xgb))\n",
    "mape_boosting_train = mape(y_train,y_train_pred_xgb)\n",
    "rmse_boosting_test = np.sqrt(mean_squared_error(y_test,y_test_pred_xgb))\n",
    "mape_boosting_test = mape(y_test,y_test_pred_xgb)"
   ]
  },
  {
   "cell_type": "code",
   "execution_count": null,
   "metadata": {},
   "outputs": [],
   "source": [
    "print(rmse_stacking_train)"
   ]
  }
 ],
 "metadata": {
  "language_info": {
   "name": "python"
  }
 },
 "nbformat": 4,
 "nbformat_minor": 2
}
