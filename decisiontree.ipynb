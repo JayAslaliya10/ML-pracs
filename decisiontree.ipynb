{
 "cells": [
  {
   "cell_type": "code",
   "execution_count": 1,
   "id": "e8428f5e-f944-4704-b867-8e58c6567fb7",
   "metadata": {},
   "outputs": [],
   "source": [
    "import numpy as np \n",
    "import pandas as pd"
   ]
  },
  {
   "cell_type": "code",
   "execution_count": 2,
   "id": "989762dc-52eb-4b33-a6e6-9a3033a697cd",
   "metadata": {},
   "outputs": [],
   "source": [
    "import numpy as np\n",
    "\n",
    "class TreeNode:\n",
    "    def __init__(self, gini, num_samples, num_samples_per_class, predicted_class):\n",
    "        self.gini = gini\n",
    "        self.num_samples = num_samples\n",
    "        self.num_samples_per_class = num_samples_per_class\n",
    "        self.predicted_class = predicted_class\n",
    "        self.feature_index = 0\n",
    "        self.threshold = 0\n",
    "        self.left = None\n",
    "        self.right = None\n",
    "\n",
    "class DecisionTreeClassifier:\n",
    "    def __init__(self, max_depth=None):\n",
    "        self.max_depth = max_depth\n",
    "\n",
    "    def fit(self, X, y):\n",
    "        self.num_classes = len(np.unique(y))\n",
    "        self.num_features = X.shape[1]\n",
    "        self.tree = self._grow_tree(X, y)\n",
    "\n",
    "    def _gini(self, y):\n",
    "        m = len(y)\n",
    "        return 1.0 - sum((np.sum(y == c) / m) ** 2 for c in range(self.num_classes))\n",
    "\n",
    "    def _best_split(self, X, y):\n",
    "        m, n = X.shape\n",
    "        if m <= 1:\n",
    "            return None, None\n",
    "\n",
    "        num_parent = [np.sum(y == c) for c in range(self.num_classes)]\n",
    "        best_gini = 1.0 - sum((num / m) ** 2 for num in num_parent)\n",
    "        best_idx, best_thr = None, None\n",
    "\n",
    "        for idx in range(self.num_features):\n",
    "            thresholds, classes = zip(*sorted(zip(X[:, idx], y)))\n",
    "            num_left = [0] * self.num_classes\n",
    "            num_right = num_parent.copy()\n",
    "\n",
    "            for i in range(1, m):\n",
    "                c = classes[i - 1]\n",
    "                num_left[c] += 1\n",
    "                num_right[c] -= 1\n",
    "                gini_left = 1.0 - sum((num_left[x] / i) ** 2 for x in range(self.num_classes))\n",
    "                gini_right = 1.0 - sum((num_right[x] / (m - i)) ** 2 for x in range(self.num_classes))\n",
    "                gini = (i * gini_left + (m - i) * gini_right) / m\n",
    "\n",
    "                if thresholds[i] == thresholds[i - 1]:\n",
    "                    continue\n",
    "\n",
    "                if gini < best_gini:\n",
    "                    best_gini = gini\n",
    "                    best_idx = idx\n",
    "                    best_thr = (thresholds[i] + thresholds[i - 1]) / 2\n",
    "\n",
    "        return best_idx, best_thr\n",
    "\n",
    "    def _grow_tree(self, X, y, depth=0):\n",
    "        num_samples_per_class = [np.sum(y == i) for i in range(self.num_classes)]\n",
    "        predicted_class = np.argmax(num_samples_per_class)\n",
    "        node = TreeNode(\n",
    "            gini=self._gini(y),\n",
    "            num_samples=len(y),\n",
    "            num_samples_per_class=num_samples_per_class,\n",
    "            predicted_class=predicted_class,\n",
    "        )\n",
    "\n",
    "        if depth < self.max_depth:\n",
    "            idx, thr = self._best_split(X, y)\n",
    "            if idx is not None:\n",
    "                indices_left = X[:, idx] < thr\n",
    "                X_left, y_left = X[indices_left], y[indices_left]\n",
    "                X_right, y_right = X[~indices_left], y[~indices_left]\n",
    "                node.feature_index = idx\n",
    "                node.threshold = thr\n",
    "                node.left = self._grow_tree(X_left, y_left, depth + 1)\n",
    "                node.right = self._grow_tree(X_right, y_right, depth + 1)\n",
    "        return node\n",
    "\n",
    "    def predict(self, X):\n",
    "        return [self._predict_tree(x, self.tree) for x in X]\n",
    "\n",
    "    def _predict_tree(self, x, tree):\n",
    "        if tree.left is None and tree.right is None:\n",
    "            return tree.predicted_class\n",
    "        if x[tree.feature_index] < tree.threshold:\n",
    "            return self._predict_tree(x, tree.left)\n",
    "        else:\n",
    "            return self._predict_tree(x, tree.right)\n",
    "\n"
   ]
  },
  {
   "cell_type": "code",
   "execution_count": 3,
   "id": "b76373a5-24f2-4dd9-846b-bcf9bd8e2132",
   "metadata": {},
   "outputs": [
    {
     "name": "stdout",
     "output_type": "stream",
     "text": [
      "    company  job  degree  salary_more_then_100k\n",
      "0         0    0       0                      0\n",
      "1         0    0       1                      0\n",
      "2         0    1       0                      1\n",
      "3         0    1       1                      1\n",
      "4         0    2       0                      0\n",
      "5         0    2       1                      1\n",
      "6         2    0       1                      0\n",
      "7         2    2       0                      0\n",
      "8         2    1       0                      0\n",
      "9         2    1       1                      1\n",
      "10        1    0       0                      1\n",
      "11        1    0       1                      1\n",
      "12        1    1       0                      1\n",
      "13        1    1       1                      1\n",
      "14        1    2       0                      1\n",
      "15        1    2       1                      1\n"
     ]
    }
   ],
   "source": [
    "# Load the dataset\n",
    "data = pd.read_csv('./salaries.csv')  # Replace with the actual dataset filename\n",
    "\n",
    "# Define custom mapping dictionaries for each categorical column\n",
    "company_mapping = {'google': 0, 'facebook': 1, 'abc pharma': 2}\n",
    "job_mapping = {'sales executive': 0, 'business manager': 1, 'computer programmer': 2}\n",
    "degree_mapping = {'bachelors': 0, 'masters': 1}\n",
    "\n",
    "# Apply custom mapping to each categorical column\n",
    "data['company'] = data['company'].map(company_mapping)\n",
    "data['job'] = data['job'].map(job_mapping)\n",
    "data['degree'] = data['degree'].map(degree_mapping)\n",
    "\n",
    "print(data)\n",
    "# Separate features (X) and target (y)\n",
    "X = data.drop('salary_more_then_100k', axis=1)\n",
    "y = data['salary_more_then_100k']\n"
   ]
  },
  {
   "cell_type": "code",
   "execution_count": 4,
   "id": "a6f1c1b7-6fc0-4003-ab41-b4dfac99009e",
   "metadata": {},
   "outputs": [
    {
     "data": {
      "text/html": [
       "<div>\n",
       "<style scoped>\n",
       "    .dataframe tbody tr th:only-of-type {\n",
       "        vertical-align: middle;\n",
       "    }\n",
       "\n",
       "    .dataframe tbody tr th {\n",
       "        vertical-align: top;\n",
       "    }\n",
       "\n",
       "    .dataframe thead th {\n",
       "        text-align: right;\n",
       "    }\n",
       "</style>\n",
       "<table border=\"1\" class=\"dataframe\">\n",
       "  <thead>\n",
       "    <tr style=\"text-align: right;\">\n",
       "      <th></th>\n",
       "      <th>company</th>\n",
       "      <th>job</th>\n",
       "      <th>degree</th>\n",
       "    </tr>\n",
       "  </thead>\n",
       "  <tbody>\n",
       "    <tr>\n",
       "      <th>0</th>\n",
       "      <td>0</td>\n",
       "      <td>0</td>\n",
       "      <td>0</td>\n",
       "    </tr>\n",
       "    <tr>\n",
       "      <th>1</th>\n",
       "      <td>0</td>\n",
       "      <td>0</td>\n",
       "      <td>1</td>\n",
       "    </tr>\n",
       "    <tr>\n",
       "      <th>2</th>\n",
       "      <td>0</td>\n",
       "      <td>1</td>\n",
       "      <td>0</td>\n",
       "    </tr>\n",
       "    <tr>\n",
       "      <th>3</th>\n",
       "      <td>0</td>\n",
       "      <td>1</td>\n",
       "      <td>1</td>\n",
       "    </tr>\n",
       "    <tr>\n",
       "      <th>4</th>\n",
       "      <td>0</td>\n",
       "      <td>2</td>\n",
       "      <td>0</td>\n",
       "    </tr>\n",
       "  </tbody>\n",
       "</table>\n",
       "</div>"
      ],
      "text/plain": [
       "   company  job  degree\n",
       "0        0    0       0\n",
       "1        0    0       1\n",
       "2        0    1       0\n",
       "3        0    1       1\n",
       "4        0    2       0"
      ]
     },
     "execution_count": 4,
     "metadata": {},
     "output_type": "execute_result"
    }
   ],
   "source": [
    "X.head()"
   ]
  },
  {
   "cell_type": "code",
   "execution_count": 5,
   "id": "f055f066-ec70-404b-8842-5b9955bd3e6f",
   "metadata": {},
   "outputs": [
    {
     "data": {
      "text/plain": [
       "0    0\n",
       "1    0\n",
       "2    1\n",
       "3    1\n",
       "4    0\n",
       "Name: salary_more_then_100k, dtype: int64"
      ]
     },
     "execution_count": 5,
     "metadata": {},
     "output_type": "execute_result"
    }
   ],
   "source": [
    "y.head()"
   ]
  },
  {
   "cell_type": "code",
   "execution_count": 6,
   "id": "cc6afe94-a223-4e2d-ae65-a5ced553f1cc",
   "metadata": {},
   "outputs": [],
   "source": [
    "# Create and train the DecisionTreeClassifier\n",
    "clf = DecisionTreeClassifier(max_depth=3)\n",
    "clf.fit(X.values, y)"
   ]
  },
  {
   "cell_type": "code",
   "execution_count": 7,
   "id": "2651d5f5-fa9d-4a4a-9b37-7367083f6a3b",
   "metadata": {
    "scrolled": true
   },
   "outputs": [
    {
     "name": "stdout",
     "output_type": "stream",
     "text": [
      "   company  job  degree\n",
      "0        0    0       0\n",
      "1        1    2       1\n",
      "2        2    2       0\n",
      "For bachelors degree holder in sales executive role at google, predicted salary more than $100k: No\n",
      "For masters degree holder in computer programmer role at facebook, predicted salary more than $100k: Yes\n",
      "For bachelors degree holder in computer programmer role at abc pharma, predicted salary more than $100k: No\n"
     ]
    }
   ],
   "source": [
    "new_data = pd.DataFrame({\n",
    "    'company': ['google', 'facebook','abc pharma'],\n",
    "    'job': ['sales executive', 'computer programmer','computer programmer'],\n",
    "    'degree': ['bachelors', 'masters','bachelors']\n",
    "})\n",
    "\n",
    "new_data_encoded = new_data.copy()\n",
    "new_data_encoded['company'] = new_data['company'].map(company_mapping)\n",
    "new_data_encoded['job'] = new_data['job'].map(job_mapping)\n",
    "new_data_encoded['degree'] = new_data['degree'].map(degree_mapping)\n",
    "\n",
    "print(new_data_encoded)\n",
    "# Predict for the new data\n",
    "if 'new_data_encoded' in locals():\n",
    "    predictions = clf.predict(new_data_encoded.values)\n",
    "    for i, pred in enumerate(predictions):\n",
    "        company = new_data['company'][i]\n",
    "        job = new_data['job'][i]\n",
    "        degree = new_data['degree'][i]\n",
    "        salary_prediction = \"Yes\" if pred == 1 else \"No\"\n",
    "        print(f\"For {degree} degree holder in {job} role at {company}, predicted salary more than $100k: {salary_prediction}\")"
   ]
  },
  {
   "cell_type": "code",
   "execution_count": null,
   "id": "b92e75d1",
   "metadata": {},
   "outputs": [],
   "source": []
  }
 ],
 "metadata": {
  "kernelspec": {
   "display_name": "Python 3 (ipykernel)",
   "language": "python",
   "name": "python3"
  },
  "language_info": {
   "codemirror_mode": {
    "name": "ipython",
    "version": 3
   },
   "file_extension": ".py",
   "mimetype": "text/x-python",
   "name": "python",
   "nbconvert_exporter": "python",
   "pygments_lexer": "ipython3",
   "version": "3.10.4"
  }
 },
 "nbformat": 4,
 "nbformat_minor": 5
}
